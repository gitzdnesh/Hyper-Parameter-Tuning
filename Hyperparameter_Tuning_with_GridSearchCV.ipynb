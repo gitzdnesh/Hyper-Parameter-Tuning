{
  "nbformat": 4,
  "nbformat_minor": 0,
  "metadata": {
    "colab": {
      "name": "Hyperparameter Tuning with GridSearchCV.ipynb",
      "provenance": []
    },
    "kernelspec": {
      "name": "python3",
      "display_name": "Python 3"
    },
    "language_info": {
      "name": "python"
    }
  },
  "cells": [
    {
      "cell_type": "markdown",
      "source": [
        "Since we always want the model with best scores, tuning the hyper parameters may help in improving that score"
      ],
      "metadata": {
        "id": "Jf5UmA3kyRck"
      }
    },
    {
      "cell_type": "markdown",
      "source": [
        "Using the Breast Cancer Wisconsin dataset"
      ],
      "metadata": {
        "id": "On1V7f8d0x1W"
      }
    },
    {
      "cell_type": "code",
      "source": [
        "import pandas as pd                                         # import pandas\n",
        "\n",
        "from sklearn.model_selection import train_test_split\n",
        "from sklearn.model_selection import GridSearchCV\n",
        "from sklearn.svm import SVC\n",
        "from sklearn.datasets import load_breast_cancer             # load the breast cancer from sklearn\n",
        "\n",
        "from sklearn import metrics\n",
        "from sklearn.metrics import classification_report, confusion_matrix"
      ],
      "metadata": {
        "id": "o4nk5YHp03Lp"
      },
      "execution_count": 35,
      "outputs": []
    },
    {
      "cell_type": "code",
      "source": [
        "# load the data set\n",
        "\n",
        "dataset = load_breast_cancer()\n",
        "X = dataset.data\n",
        "y = dataset.target                                           # split data and target variable\n",
        "\n",
        "X_train, X_test, y_train, y_test = train_test_split(X, y, test_size = 0.3, random_state = 1010)\n",
        "\n",
        "# train  model without grid search\n",
        "\n",
        "model = SVC()\n",
        "model.fit(X_train, y_train)\n",
        "\n",
        "# predictions\n",
        "\n",
        "predictions = model.predict(X_test)\n",
        "metrics.accuracy_score(y_test, predictions)\n",
        "\n",
        "\n"
      ],
      "metadata": {
        "colab": {
          "base_uri": "https://localhost:8080/"
        },
        "id": "xNI_crCB08Wm",
        "outputId": "4348074d-4075-4dda-ef39-46c4698752d1"
      },
      "execution_count": 36,
      "outputs": [
        {
          "output_type": "execute_result",
          "data": {
            "text/plain": [
              "0.9415204678362573"
            ]
          },
          "metadata": {},
          "execution_count": 36
        }
      ]
    },
    {
      "cell_type": "code",
      "source": [
        "print(classification_report(y_test, predictions))"
      ],
      "metadata": {
        "colab": {
          "base_uri": "https://localhost:8080/"
        },
        "id": "FGyaxOKu4pI4",
        "outputId": "b9995e01-0097-406f-d75f-9c5fab348a49"
      },
      "execution_count": 37,
      "outputs": [
        {
          "output_type": "stream",
          "name": "stdout",
          "text": [
            "              precision    recall  f1-score   support\n",
            "\n",
            "           0       1.00      0.86      0.93        73\n",
            "           1       0.91      1.00      0.95        98\n",
            "\n",
            "    accuracy                           0.94       171\n",
            "   macro avg       0.95      0.93      0.94       171\n",
            "weighted avg       0.95      0.94      0.94       171\n",
            "\n"
          ]
        }
      ]
    },
    {
      "cell_type": "code",
      "source": [
        ""
      ],
      "metadata": {
        "id": "fHkA_3UM1FwF"
      },
      "execution_count": 37,
      "outputs": []
    },
    {
      "cell_type": "markdown",
      "source": [
        "**Use Grid search**"
      ],
      "metadata": {
        "id": "UAVwMPEm42bo"
      }
    },
    {
      "cell_type": "code",
      "source": [
        "# define parameter range\n",
        "param_grid = {\n",
        "              \"C\": [0.1, 1, 10, 100],\n",
        "              \"gamma\": [1, 0.1, 0.01, 0.001, 0.0001],\n",
        "              \"gamma\": ['scale', 'auto'],\n",
        "              \"kernel\": [\"linear\"]\n",
        "             }\n",
        "param_grid"
      ],
      "metadata": {
        "colab": {
          "base_uri": "https://localhost:8080/"
        },
        "id": "7ALRuqZN46rR",
        "outputId": "ca83b81f-e03e-4580-9b97-33fe3ddcb2c1"
      },
      "execution_count": 38,
      "outputs": [
        {
          "output_type": "execute_result",
          "data": {
            "text/plain": [
              "{'C': [0.1, 1, 10, 100], 'gamma': ['scale', 'auto'], 'kernel': ['linear']}"
            ]
          },
          "metadata": {},
          "execution_count": 38
        }
      ]
    },
    {
      "cell_type": "code",
      "source": [
        "grid = GridSearchCV(SVC(), param_grid, refit = True, verbose = 3, n_jobs = -1)\n",
        "grid.fit(X_train, y_train)\n"
      ],
      "metadata": {
        "colab": {
          "base_uri": "https://localhost:8080/"
        },
        "id": "SqkSZ4o65xN5",
        "outputId": "750262a0-6d38-40e6-d74c-59bcefb9ff6c"
      },
      "execution_count": 41,
      "outputs": [
        {
          "output_type": "stream",
          "name": "stdout",
          "text": [
            "Fitting 5 folds for each of 8 candidates, totalling 40 fits\n"
          ]
        },
        {
          "output_type": "execute_result",
          "data": {
            "text/plain": [
              "GridSearchCV(estimator=SVC(), n_jobs=-1,\n",
              "             param_grid={'C': [0.1, 1, 10, 100], 'gamma': ['scale', 'auto'],\n",
              "                         'kernel': ['linear']},\n",
              "             verbose=3)"
            ]
          },
          "metadata": {},
          "execution_count": 41
        }
      ]
    },
    {
      "cell_type": "code",
      "source": [
        "print(grid.best_params_)\n",
        "grid_predictions = grid.predict(X_test)"
      ],
      "metadata": {
        "colab": {
          "base_uri": "https://localhost:8080/"
        },
        "id": "CtA7ga-z6Q-G",
        "outputId": "b7fc1f14-f7af-4b35-9bcb-992b14e6227c"
      },
      "execution_count": 46,
      "outputs": [
        {
          "output_type": "stream",
          "name": "stdout",
          "text": [
            "{'C': 100, 'gamma': 'scale', 'kernel': 'linear'}\n"
          ]
        }
      ]
    },
    {
      "cell_type": "code",
      "source": [
        "print(classification_report(y_test, grid_predictions ))"
      ],
      "metadata": {
        "colab": {
          "base_uri": "https://localhost:8080/"
        },
        "id": "IMMZW3b_7hD9",
        "outputId": "00b0c355-17fe-49c4-d57a-1dee00e48b7e"
      },
      "execution_count": 47,
      "outputs": [
        {
          "output_type": "stream",
          "name": "stdout",
          "text": [
            "              precision    recall  f1-score   support\n",
            "\n",
            "           0       0.95      0.96      0.95        73\n",
            "           1       0.97      0.96      0.96        98\n",
            "\n",
            "    accuracy                           0.96       171\n",
            "   macro avg       0.96      0.96      0.96       171\n",
            "weighted avg       0.96      0.96      0.96       171\n",
            "\n"
          ]
        }
      ]
    },
    {
      "cell_type": "code",
      "source": [
        ""
      ],
      "metadata": {
        "id": "J8ycO9Dj8UKO"
      },
      "execution_count": null,
      "outputs": []
    },
    {
      "cell_type": "markdown",
      "source": [
        "Accuracy improves after the tuning"
      ],
      "metadata": {
        "id": "sthOm6Cw8bIX"
      }
    },
    {
      "cell_type": "code",
      "source": [
        ""
      ],
      "metadata": {
        "id": "pyVHquHM8fAU"
      },
      "execution_count": null,
      "outputs": []
    }
  ]
}